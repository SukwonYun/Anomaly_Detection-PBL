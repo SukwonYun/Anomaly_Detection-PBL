{
  "nbformat": 4,
  "nbformat_minor": 0,
  "metadata": {
    "colab": {
      "name": "anogan.ipynb",
      "provenance": [],
      "collapsed_sections": [],
      "authorship_tag": "ABX9TyMk3ZyC5NY+421vJaaCsug1"
    },
    "kernelspec": {
      "display_name": "Python 3",
      "name": "python3"
    },
    "language_info": {
      "name": "python"
    },
    "accelerator": "GPU"
  },
  "cells": [
    {
      "cell_type": "code",
      "metadata": {
        "id": "HQ7BiRfJKk46"
      },
      "source": [
        "import torch\n",
        "import torch.nn as nn\n",
        "import torch.optim as optim\n",
        "from torch.utils.data import DataLoader, Dataset\n",
        "import torch.nn.init as init\n",
        "from time import time\n",
        "from torchvision.transforms import Compose, ToTensor\n",
        "import torchvision.transforms as transforms\n",
        "from torchvision import datasets\n",
        "from torch.autograd import Variable\n",
        "import numpy as np\n",
        "import torchvision.utils as v_utils\n",
        "import os \n",
        "import matplotlib.pyplot as plt\n",
        "import numpy as np\n",
        "from timeit import default_timer as timer"
      ],
      "execution_count": 53,
      "outputs": []
    },
    {
      "cell_type": "markdown",
      "metadata": {
        "id": "CaAH68POnx4K"
      },
      "source": [
        "## Dataset Class"
      ]
    },
    {
      "cell_type": "code",
      "metadata": {
        "id": "pmzt1AxzKqv5"
      },
      "source": [
        "class Dataset(Dataset):\n",
        "  def __init__(self, x, y, n):\n",
        "    self.x = torch.FloatTensor(x).view(n,1,28,28)\n",
        "    self.y = torch.FloatTensor(y)\n",
        "\n",
        "  def __len__(self):\n",
        "    return len(self.x)\n",
        "  def __getitem__(self, idx):\n",
        "    return self.x[idx], self.y[idx]\n",
        "\n",
        "\n",
        "class Data:\n",
        "  def __init__(self, config):\n",
        "    transform = Compose([ToTensor()])\n",
        "    self.normal_num = config['normal_num']\n",
        "    self.ratio = config['ratio']\n",
        "    self.train_dataset, self.test_dataset = self.load_data()\n",
        "\n",
        "  def load_data(self):\n",
        "\n",
        "    train_dataset = datasets.MNIST(root=\"MNIST/processed/training.pt\", train=True,  download=config['download'])\n",
        "    train_x, train_y = train_dataset.data, train_dataset.targets\n",
        "    test_dataset = datasets.MNIST(root=\"MNIST/processed/test.pt\", train=False,  download=config['download'])\n",
        "    test_x, test_y = test_dataset.data, test_dataset.targets\n",
        "    train_x, train_y = self.preprocessing(train_x, train_y, self.normal_num, self.ratio, True)\n",
        "    test_x, test_y = self.preprocessing(test_x, test_y, self.normal_num, self.ratio, False)\n",
        "    n = len(train_x)\n",
        "    n_ = len(test_x)\n",
        "    return Dataset(train_x, train_y, n), Dataset(test_x, test_y, n_)\n",
        "\n",
        "  def preprocessing(self, x, y, normal_num, ratio, train):\n",
        "    \"\"\"\n",
        "    Train Dataset에는 모두 0인 것만 포함시키기\n",
        "    Test Dataset에는 0이 0.8개, 나머지는 0.2개를 포함시키기\n",
        "    \"\"\"\n",
        "    x = x/255.0\n",
        "    N = len(x)\n",
        "    processing_x = []\n",
        "    processing_y = []\n",
        "    for i in range(N):\n",
        "      if y[i] == normal_num:\n",
        "        processing_x.append(x[i].reshape(-1).tolist())\n",
        "        processing_y.append([y[i].tolist()])\n",
        "    num_normal_data = len(processing_x)\n",
        "    print(\"number of normal data: {}\".format(num_normal_data))\n",
        "    i = 0\n",
        "    while(1):\n",
        "      if train:\n",
        "          break\n",
        "      if len(processing_x) > num_normal_data*(1+self.ratio):\n",
        "        break\n",
        "      if y[i] != normal_num:\n",
        "        processing_x.append(x[i].reshape(-1).tolist())\n",
        "        processing_y.append([y[i].tolist()])\n",
        "      i += 1\n",
        "    print(\"number of abnormal data: {}\".format(len(processing_x)-num_normal_data))\n",
        "    return processing_x, processing_y"
      ],
      "execution_count": 16,
      "outputs": []
    },
    {
      "cell_type": "code",
      "metadata": {
        "colab": {
          "base_uri": "https://localhost:8080/",
          "height": 603
        },
        "id": "Lr2wSLQ-K7XP",
        "outputId": "2c7a8953-5724-439f-fff8-c0047ccd64ab"
      },
      "source": [
        "config = {\n",
        "    \"normal_num\": 0,\n",
        "    \"ratio\": 0.1,\n",
        "    \"batch_size\": 65,\n",
        "    'threshold': 0.08,\n",
        "    'epoch': 200,\n",
        "    'learning_rate': 0.0002,\n",
        "    'download': False # MNIST를 다운할 것인지\n",
        "}\n",
        "data =Data(config)\n",
        "train_loader = torch.utils.data.DataLoader(dataset=data.train_dataset,batch_size=config['batch_size'],shuffle=True,drop_last=True)\n",
        "plt.imshow(train_loader.dataset.x[0][0],cmap='gray')\n",
        "plt.show()\n",
        "plt.imshow(train_loader.dataset.x[400][0],cmap='gray')\n"
      ],
      "execution_count": 37,
      "outputs": [
        {
          "output_type": "stream",
          "text": [
            "number of normal data: 5923\n",
            "number of abnormal data: 0\n",
            "number of normal data: 980\n",
            "number of abnormal data: 99\n"
          ],
          "name": "stdout"
        },
        {
          "output_type": "display_data",
          "data": {
            "image/png": "[encoded data removed]",
            "text/plain": [
              "<Figure size 432x288 with 1 Axes>"
            ]
          },
          "metadata": {
            "tags": [],
            "needs_background": "light"
          }
        },
        {
          "output_type": "execute_result",
          "data": {
            "text/plain": [
              "<matplotlib.image.AxesImage at 0x7fac54bad8d0>"
            ]
          },
          "metadata": {
            "tags": []
          },
          "execution_count": 37
        },
        {
          "output_type": "display_data",
          "data": {
            "image/png": "[encoded data removed]",
            "text/plain": [
              "<Figure size 432x288 with 1 Axes>"
            ]
          },
          "metadata": {
            "tags": [],
            "needs_background": "light"
          }
        }
      ]
    },
    {
      "cell_type": "markdown",
      "metadata": {
        "id": "-ZBk4kvAoEDC"
      },
      "source": [
        "## Discriminator와 Generator Class"
      ]
    },
    {
      "cell_type": "code",
      "metadata": {
        "id": "iXFigOPwOCfk"
      },
      "source": [
        "class Discriminator(nn.Module):\n",
        "    def __init__(self,config):\n",
        "        super(Discriminator,self).__init__()\n",
        "        self.layer1 = nn.Sequential(\n",
        "                        nn.Conv2d(1,8,3,padding=1),   # batch x 16 x 28 x 28\n",
        "                        nn.BatchNorm2d(8),    \n",
        "                        nn.LeakyReLU(),\n",
        "                        nn.Conv2d(8,16,3,stride=2,padding=1),  # batch x 32 x 28 x 28\n",
        "                        nn.BatchNorm2d(16),    \n",
        "                        nn.LeakyReLU(),\n",
        "                        #('max1',nn.MaxPool2d(2,2))   # batch x 32 x 14 x 14\n",
        "        )\n",
        "        self.layer2 = nn.Sequential(\n",
        "                        nn.Conv2d(16,32,3,stride=2,padding=1),  # batch x 64 x 14 x 14\n",
        "                        nn.BatchNorm2d(32),\n",
        "                        nn.LeakyReLU(),\n",
        "                        #nn.MaxPool2d(2,2),\n",
        "                        nn.Conv2d(32,64,3,padding=1),  # batch x 128 x 7 x 7\n",
        "                        nn.BatchNorm2d(64),\n",
        "                        nn.LeakyReLU()\n",
        "        )\n",
        "        self.fc = nn.Sequential(\n",
        "                        nn.Linear(64*7*7,1),\n",
        "                        nn.Sigmoid()\n",
        "        )\n",
        "\n",
        "    def forward(self,x):\n",
        "        out = self.layer1(x)\n",
        "        out = self.layer2(out)\n",
        "        out = out.view(out.size()[0], -1)\n",
        "        feature = out\n",
        "        out = self.fc(out)\n",
        "        return out,feature\n",
        "        \n",
        "class Generator(nn.Module):\n",
        "    def __init__(self):\n",
        "        super(Generator,self).__init__()\n",
        "        self.layer1 = nn.Sequential(\n",
        "             nn.Linear(100,7*7*512),\n",
        "             nn.BatchNorm1d(7*7*512),\n",
        "             nn.ReLU(),\n",
        "        )\n",
        "        self.layer2 = nn.Sequential(\n",
        "                        nn.ConvTranspose2d(512,256,3,2,1,1),\n",
        "                        nn.BatchNorm2d(256),\n",
        "                        nn.LeakyReLU(),\n",
        "                        nn.ConvTranspose2d(256,128,3,1,1),\n",
        "                        nn.BatchNorm2d(128),    \n",
        "                        nn.LeakyReLU(),\n",
        "            )\n",
        "        self.layer3 = nn.Sequential(\n",
        "                        nn.ConvTranspose2d(128,64,3,1,1),\n",
        "                        nn.BatchNorm2d(64),    \n",
        "                        nn.LeakyReLU(),\n",
        "                        nn.ConvTranspose2d(64,1,3,2,1,1),\n",
        "                        nn.Tanh()\n",
        "            )\n",
        "\n",
        "    def forward(self,z):\n",
        "        out = self.layer1(z)\n",
        "        out = out.view(out.size()[0],512,7,7)\n",
        "        out = self.layer2(out)\n",
        "        out = self.layer3(out)\n",
        "        return out\n"
      ],
      "execution_count": 38,
      "outputs": []
    },
    {
      "cell_type": "code",
      "metadata": {
        "id": "vXBdxk2kK9Pp",
        "colab": {
          "base_uri": "https://localhost:8080/"
        },
        "outputId": "fd84d77e-8751-491b-d3dd-ed7a78144c62"
      },
      "source": [
        "start = timer()\n",
        "generator = Generator().cuda()\n",
        "discriminator = Discriminator(config).cuda()\n",
        "print(\"GPU의 할당시간 : {:4f}\".format(timer()-start))\n",
        "try:\n",
        "    generator.load_state_dict(torch.load('./saved_model/generator.pkl'))\n",
        "    discriminator.load_state_dict(torch.load('./saved_model/discriminator.pkl'))\n",
        "    print(\"\\n--------model restored--------\\n\")\n",
        "except:\n",
        "    print(\"\\n--------model not restored--------\\n\")\n",
        "    pass"
      ],
      "execution_count": 39,
      "outputs": [
        {
          "output_type": "stream",
          "text": [
            "GPU의 할당시간 : 0.038492\n"
          ],
          "name": "stdout"
        }
      ]
    },
    {
      "cell_type": "code",
      "metadata": {
        "id": "uDjQgrfjLPWx"
      },
      "source": [
        "loss_func = nn.MSELoss()\n",
        "\n",
        "ones_label = torch.ones(config['batch_size'],1).cuda()\n",
        "zeros_label = torch.zeros(config['batch_size'],1).cuda()\n",
        "\n",
        "gen_optim = torch.optim.Adam(generator.parameters(), lr= 5*config['learning_rate'],betas=(0.5,0.999))\n",
        "dis_optim = torch.optim.Adam(discriminator.parameters(), lr=config['learning_rate'],betas=(0.5,0.999))"
      ],
      "execution_count": 40,
      "outputs": []
    },
    {
      "cell_type": "code",
      "metadata": {
        "id": "ai5akOpqLRFQ"
      },
      "source": [
        "\n",
        "def image_check(gen_fake):\n",
        "    img = gen_fake.data.numpy()\n",
        "    for i in range(2):\n",
        "        plt.imshow(img[i][0],cmap='gray')\n",
        "        plt.show()"
      ],
      "execution_count": 41,
      "outputs": []
    },
    {
      "cell_type": "markdown",
      "metadata": {
        "id": "1TjQIKvqwBgS"
      },
      "source": [
        "## Early Stop 용도"
      ]
    },
    {
      "cell_type": "code",
      "metadata": {
        "id": "12PlirQHwEJa"
      },
      "source": [
        "max_loss = 10000000.0\n",
        "max_count = 10\n",
        "cur_count = 0"
      ],
      "execution_count": 55,
      "outputs": []
    },
    {
      "cell_type": "markdown",
      "metadata": {
        "id": "6rbao8PaoTF7"
      },
      "source": [
        "## Main 부분"
      ]
    },
    {
      "cell_type": "code",
      "metadata": {
        "id": "ewTml2Z1LThF",
        "colab": {
          "base_uri": "https://localhost:8080/",
          "height": 603
        },
        "outputId": "efbdea57-1d34-4aa4-d5da-ef4323bfdade"
      },
      "source": [
        "start = timer()\n",
        "generator.train()\n",
        "discriminator.train()\n",
        "for i in range(config['epoch']):\n",
        "    total_loss = 0.0\n",
        "    for j,(image,label) in enumerate(train_loader):\n",
        "        image = image.cuda()\n",
        "        \n",
        "        # generator\n",
        "        gen_optim.zero_grad()\n",
        "        \n",
        "        z = init.normal_(torch.Tensor(config['batch_size'],100).cuda(),mean=0,std=0.1)\n",
        "        gen_fake = generator.forward(z)\n",
        "        dis_fake,_ = discriminator.forward(gen_fake)\n",
        "        \n",
        "        gen_loss = torch.sum(loss_func(dis_fake,ones_label)) # fake classified as real\n",
        "        gen_loss.backward(retain_graph=True)\n",
        "        gen_optim.step()\n",
        "    \n",
        "        # discriminator\n",
        "        dis_optim.zero_grad()\n",
        "        \n",
        "        z = Variable(init.normal_(torch.Tensor(config['batch_size'],100),mean=0,std=0.1)).cuda()\n",
        "        gen_fake = generator.forward(z)\n",
        "        dis_fake,_ = discriminator.forward(gen_fake)\n",
        "        \n",
        "        dis_real,_ = discriminator.forward(image)\n",
        "        dis_loss = torch.sum(loss_func(dis_fake,zeros_label)) + torch.sum(loss_func(dis_real,ones_label))\n",
        "        dis_loss.backward()\n",
        "        dis_optim.step()\n",
        "        total_loss += (gen_loss.detach().item()+ dis_loss.detach().item())\n",
        "        # model save\n",
        "        if i % 20 == 0 and j==0:\n",
        "              #print(gen_loss,dis_loss)\n",
        "              print(\"{}th iteration gen_loss: {} dis_loss: {}\".format(i,gen_loss.data,dis_loss.data))\n",
        "            \n",
        "    \n",
        "    # Early Stop 용도\n",
        "    if total_loss < max_loss:\n",
        "      max_loss = total_loss\n",
        "      cur_count = 0\n",
        "    else:\n",
        "      cur_count += 1\n",
        "      if cur_count == max_count:\n",
        "        torch.save(generator.state_dict(),'saved_model/generator.pkl')\n",
        "        torch.save(discriminator.state_dict(),'saved_model/discriminator.pkl')\n",
        "        v_utils.save_image(gen_fake.data[0:25],\"result/gen_{}_{}.png\".format(i,j), nrow=5)\n",
        "        break\n",
        "      \n",
        "print(\"Time : {:4f}\".format(timer()-start))\n",
        "image_check(gen_fake.cpu())"
      ],
      "execution_count": 54,
      "outputs": [
        {
          "output_type": "stream",
          "text": [
            "/usr/local/lib/python3.7/dist-packages/ipykernel_launcher.py:12: UserWarning: nn.init.normal is now deprecated in favor of nn.init.normal_.\n",
            "  if sys.path[0] == '':\n",
            "/usr/local/lib/python3.7/dist-packages/ipykernel_launcher.py:23: UserWarning: nn.init.normal is now deprecated in favor of nn.init.normal_.\n"
          ],
          "name": "stderr"
        },
        {
          "output_type": "stream",
          "text": [
            "0th iteration gen_loss: 0.033217642456293106 dis_loss: 1.0828148126602173\n",
            "Time : 37.896028\n"
          ],
          "name": "stdout"
        },
        {
          "output_type": "display_data",
          "data": {
            "image/png": "[encoded data removed]",
            "text/plain": [
              "<Figure size 432x288 with 1 Axes>"
            ]
          },
          "metadata": {
            "tags": [],
            "needs_background": "light"
          }
        },
        {
          "output_type": "display_data",
          "data": {
            "image/png": "[encoded data removed]",
            "text/plain": [
              "<Figure size 432x288 with 1 Axes>"
            ]
          },
          "metadata": {
            "tags": [],
            "needs_background": "light"
          }
        }
      ]
    },
    {
      "cell_type": "code",
      "metadata": {
        "id": "QbNdmIL8LUMP"
      },
      "source": [
        "def Anomaly_score(x,G_z,Lambda=0.1):\n",
        "    _,x_feature = discriminator(x)\n",
        "    _,G_z_feature = discriminator(G_z)\n",
        "    \n",
        "    residual_loss = torch.sum(torch.abs(x-G_z))\n",
        "    discrimination_loss = torch.sum(torch.abs(x_feature-G_z_feature))\n",
        "    \n",
        "    total_loss = (1-Lambda)*residual_loss + Lambda*discrimination_loss\n",
        "    return total_loss"
      ],
      "execution_count": 56,
      "outputs": []
    },
    {
      "cell_type": "code",
      "metadata": {
        "id": "131JzO5_LWMK",
        "colab": {
          "base_uri": "https://localhost:8080/"
        },
        "outputId": "7b92499a-c909-455a-c67b-3ca0cb0eaee2"
      },
      "source": [
        "z = Variable(init.normal(torch.zeros(len(data.test_dataset),100).cuda(),mean=0,std=0.1),requires_grad=True)\n",
        "z_optimizer = torch.optim.Adam([z],lr=1e-4)\n",
        "\n",
        "gen_fake = generator(z)\n",
        "test_data =  data.test_dataset.x.view(-1,1,28,28).cuda()\n",
        "loss = Anomaly_score(test_data,gen_fake)\n",
        "print(loss.item())"
      ],
      "execution_count": 59,
      "outputs": [
        {
          "output_type": "stream",
          "text": [
            "262615.9375\n"
          ],
          "name": "stdout"
        },
        {
          "output_type": "stream",
          "text": [
            "/usr/local/lib/python3.7/dist-packages/ipykernel_launcher.py:1: UserWarning: nn.init.normal is now deprecated in favor of nn.init.normal_.\n",
            "  \"\"\"Entry point for launching an IPython kernel.\n"
          ],
          "name": "stderr"
        }
      ]
    },
    {
      "cell_type": "code",
      "metadata": {
        "id": "TS4a2-SDX85w",
        "colab": {
          "base_uri": "https://localhost:8080/"
        },
        "outputId": "9e4d1ec5-6669-40f3-a502-b74f7deb5b59"
      },
      "source": [
        "start = timer()\n",
        "for i in range(5000):\n",
        "    z_optimizer.zero_grad()\n",
        "    gen_fake = generator(z)\n",
        "    loss = Anomaly_score(test_data,gen_fake,Lambda=0.01)\n",
        "    loss.backward()\n",
        "    z_optimizer.step()\n",
        "    \n",
        "    if i%1000==0:\n",
        "        print(loss.cpu().data)\n",
        "print(\"Time : {:4f}\".format(timer()-start))"
      ],
      "execution_count": 60,
      "outputs": [
        {
          "output_type": "stream",
          "text": [
            "tensor(153343.2500)\n",
            "tensor(72329.1406)\n",
            "tensor(61473.6758)\n",
            "tensor(56029.3281)\n",
            "tensor(53048.3555)\n",
            "Time : 1448.487408\n"
          ],
          "name": "stdout"
        }
      ]
    },
    {
      "cell_type": "code",
      "metadata": {
        "id": "Qhl3Nco2dgNm"
      },
      "source": [
        "gen_fake = generator(z)\n",
        "\n",
        "_,x_feature = discriminator(test_data)\n",
        "_,G_z_feature = discriminator(gen_fake)\n",
        "test_flatten = test_data.view(test_data.shape[0],-1)\n",
        "gen_fake_flatten = gen_fake.view(gen_fake.shape[0],-1)\n",
        "resiudal_loss = torch.sum(torch.abs(test_flatten-gen_fake_flatten), axis = 1)\n",
        "disc_loss = torch.sum(torch.abs(x_feature-G_z_feature), axis = 1)\n",
        "total_loss = (1-0.1)*resiudal_loss + 0.1*disc_loss"
      ],
      "execution_count": 75,
      "outputs": []
    },
    {
      "cell_type": "code",
      "metadata": {
        "id": "ul9CHzlvYP40"
      },
      "source": [
        "y = data.test_dataset.y.numpy().squeeze(1)\n"
      ],
      "execution_count": 76,
      "outputs": []
    },
    {
      "cell_type": "code",
      "metadata": {
        "id": "VHshkfMTtnNc"
      },
      "source": [
        "total_loss = total_loss.detach().cpu().numpy()\n",
        "zero = y==0.\n",
        "nonzero = y!=0."
      ],
      "execution_count": 94,
      "outputs": []
    },
    {
      "cell_type": "markdown",
      "metadata": {
        "id": "XuG_NEw-GIru"
      },
      "source": [
        "## 0의 anomaly Score - 평균을 Threshold로 이용"
      ]
    },
    {
      "cell_type": "code",
      "metadata": {
        "id": "u46L0x9IsLte",
        "colab": {
          "base_uri": "https://localhost:8080/"
        },
        "outputId": "878ff8f8-e6dc-4506-a35a-8e6006edb109"
      },
      "source": [
        "torch.mean(total_loss[zero])"
      ],
      "execution_count": 89,
      "outputs": [
        {
          "output_type": "execute_result",
          "data": {
            "text/plain": [
              "tensor(98.3391, device='cuda:0', grad_fn=<MeanBackward0>)"
            ]
          },
          "metadata": {
            "tags": []
          },
          "execution_count": 89
        }
      ]
    },
    {
      "cell_type": "markdown",
      "metadata": {
        "id": "_Pou4MhtGQYG"
      },
      "source": [
        "## Anomaly Detection 비율"
      ]
    },
    {
      "cell_type": "code",
      "metadata": {
        "id": "X6oqG4PguVIy",
        "colab": {
          "base_uri": "https://localhost:8080/"
        },
        "outputId": "c66824e9-8480-4b79-da7a-406d53a5a0ad"
      },
      "source": [
        "n_z = total_loss[nonzero]\n",
        "len(n_z[total_loss[nonzero]>98.3391]) / len(n_z)"
      ],
      "execution_count": 100,
      "outputs": [
        {
          "output_type": "execute_result",
          "data": {
            "text/plain": [
              "0.9595959595959596"
            ]
          },
          "metadata": {
            "tags": []
          },
          "execution_count": 100
        }
      ]
    },
    {
      "cell_type": "markdown",
      "metadata": {
        "id": "65lAd3FvSCP1"
      },
      "source": [
        "## 0이 아닌 것은 이상하게 Generate됨(Latent Space에서 찾지 못함)"
      ]
    },
    {
      "cell_type": "code",
      "metadata": {
        "id": "V_kneyYXWt22",
        "colab": {
          "base_uri": "https://localhost:8080/",
          "height": 1000
        },
        "outputId": "ce1c7391-804e-4ff6-e74a-8ff9fa967b42"
      },
      "source": [
        "for idx in range(1072,1075):\n",
        "    target = test_data[idx,0,:,:]\n",
        "    plt.imshow(target.cpu().numpy(),cmap=\"gray\")\n",
        "    plt.show()\n",
        "    print(\"real data\")\n",
        "\n",
        "    img=gen_fake.cpu().data[idx,0,:,:]\n",
        "    plt.imshow(img,cmap='gray')\n",
        "    plt.show()\n",
        "    print(\"generated data\")\n",
        "    print(\"\\n------------------------------------\\n\")"
      ],
      "execution_count": 108,
      "outputs": [
        {
          "output_type": "display_data",
          "data": {
            "image/png": "[encoded data removed]",
            "text/plain": [
              "<Figure size 432x288 with 1 Axes>"
            ]
          },
          "metadata": {
            "tags": [],
            "needs_background": "light"
          }
        },
        {
          "output_type": "stream",
          "text": [
            "real data\n"
          ],
          "name": "stdout"
        },
        {
          "output_type": "display_data",
          "data": {
            "image/png": "[encoded data removed]",
            "text/plain": [
              "<Figure size 432x288 with 1 Axes>"
            ]
          },
          "metadata": {
            "tags": [],
            "needs_background": "light"
          }
        },
        {
          "output_type": "stream",
          "text": [
            "generated data\n",
            "\n",
            "------------------------------------\n",
            "\n"
          ],
          "name": "stdout"
        },
        {
          "output_type": "display_data",
          "data": {
            "image/png": "[encoded data removed]",
            "text/plain": [
              "<Figure size 432x288 with 1 Axes>"
            ]
          },
          "metadata": {
            "tags": [],
            "needs_background": "light"
          }
        },
        {
          "output_type": "stream",
          "text": [
            "real data\n"
          ],
          "name": "stdout"
        },
        {
          "output_type": "display_data",
          "data": {
            "image/png": "[encoded data removed]",
            "text/plain": [
              "<Figure size 432x288 with 1 Axes>"
            ]
          },
          "metadata": {
            "tags": [],
            "needs_background": "light"
          }
        },
        {
          "output_type": "stream",
          "text": [
            "generated data\n",
            "\n",
            "------------------------------------\n",
            "\n"
          ],
          "name": "stdout"
        },
        {
          "output_type": "display_data",
          "data": {
            "image/png": "[encoded data removed]",
            "text/plain": [
              "<Figure size 432x288 with 1 Axes>"
            ]
          },
          "metadata": {
            "tags": [],
            "needs_background": "light"
          }
        },
        {
          "output_type": "stream",
          "text": [
            "real data\n"
          ],
          "name": "stdout"
        },
        {
          "output_type": "display_data",
          "data": {
            "image/png": "[encoded data removed]",
            "text/plain": [
              "<Figure size 432x288 with 1 Axes>"
            ]
          },
          "metadata": {
            "tags": [],
            "needs_background": "light"
          }
        },
        {
          "output_type": "stream",
          "text": [
            "generated data\n",
            "\n",
            "------------------------------------\n",
            "\n"
          ],
          "name": "stdout"
        }
      ]
    },
    {
      "cell_type": "code",
      "metadata": {
        "id": "20DqjN56sV2V"
      },
      "source": [
        ""
      ],
      "execution_count": 109,
      "outputs": []
    },
    {
      "cell_type": "markdown",
      "metadata": {
        "id": "r9H2k1YQSOIE"
      },
      "source": [
        "## Test에서 0인 데이터는 잘 Generate됨"
      ]
    },
    {
      "cell_type": "code",
      "metadata": {
        "id": "8P5sXh8CtyiR",
        "colab": {
          "base_uri": "https://localhost:8080/",
          "height": 1000
        },
        "outputId": "ecebb635-823f-40c9-e76a-943369573e56"
      },
      "source": [
        "for idx in range(0,3):\n",
        "    target = test_data[idx,0,:,:]\n",
        "    plt.imshow(target.cpu().numpy(),cmap=\"gray\")\n",
        "    plt.show()\n",
        "    print(\"real data\")\n",
        "\n",
        "    img=gen_fake.cpu().data[idx,0,:,:]\n",
        "    plt.imshow(img,cmap='gray')\n",
        "    plt.show()\n",
        "    print(\"generated data\")\n",
        "    print(\"\\n------------------------------------\\n\")"
      ],
      "execution_count": 109,
      "outputs": [
        {
          "output_type": "display_data",
          "data": {
            "image/png": "[encoded data removed]",
            "text/plain": [
              "<Figure size 432x288 with 1 Axes>"
            ]
          },
          "metadata": {
            "tags": [],
            "needs_background": "light"
          }
        },
        {
          "output_type": "stream",
          "text": [
            "real data\n"
          ],
          "name": "stdout"
        },
        {
          "output_type": "display_data",
          "data": {
            "image/png": "[encoded data removed]",
            "text/plain": [
              "<Figure size 432x288 with 1 Axes>"
            ]
          },
          "metadata": {
            "tags": [],
            "needs_background": "light"
          }
        },
        {
          "output_type": "stream",
          "text": [
            "generated data\n",
            "\n",
            "------------------------------------\n",
            "\n"
          ],
          "name": "stdout"
        },
        {
          "output_type": "display_data",
          "data": {
            "image/png": "[encoded data removed]",
            "text/plain": [
              "<Figure size 432x288 with 1 Axes>"
            ]
          },
          "metadata": {
            "tags": [],
            "needs_background": "light"
          }
        },
        {
          "output_type": "stream",
          "text": [
            "real data\n"
          ],
          "name": "stdout"
        },
        {
          "output_type": "display_data",
          "data": {
            "image/png": "[encoded data removed]",
            "text/plain": [
              "<Figure size 432x288 with 1 Axes>"
            ]
          },
          "metadata": {
            "tags": [],
            "needs_background": "light"
          }
        },
        {
          "output_type": "stream",
          "text": [
            "generated data\n",
            "\n",
            "------------------------------------\n",
            "\n"
          ],
          "name": "stdout"
        },
        {
          "output_type": "display_data",
          "data": {
            "image/png": "[encoded data removed]",
            "text/plain": [
              "<Figure size 432x288 with 1 Axes>"
            ]
          },
          "metadata": {
            "tags": [],
            "needs_background": "light"
          }
        },
        {
          "output_type": "stream",
          "text": [
            "real data\n"
          ],
          "name": "stdout"
        },
        {
          "output_type": "display_data",
          "data": {
            "image/png": "[encoded data removed]",
            "text/plain": [
              "<Figure size 432x288 with 1 Axes>"
            ]
          },
          "metadata": {
            "tags": [],
            "needs_background": "light"
          }
        },
        {
          "output_type": "stream",
          "text": [
            "generated data\n",
            "\n",
            "------------------------------------\n",
            "\n"
          ],
          "name": "stdout"
        }
      ]
    },
    {
      "cell_type": "code",
      "metadata": {
        "id": "pay1LzYhSKrW"
      },
      "source": [
        ""
      ],
      "execution_count": null,
      "outputs": []
    }
  ]
}